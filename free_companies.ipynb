{
 "cells": [
  {
   "cell_type": "code",
   "execution_count": 1,
   "metadata": {},
   "outputs": [],
   "source": [
    "import pandas as pd\n",
    "import datetime as dt\n",
    "from datetime import datetime, timezone\n",
    "import matplotlib.pyplot\n",
    "\n",
    "import seaborn as sns\n",
    "\n",
    "%matplotlib inline"
   ]
  },
  {
   "cell_type": "code",
   "execution_count": 2,
   "metadata": {},
   "outputs": [],
   "source": [
    "csv_file = '/FFXIV_Fake_FCs/feb_5_fcs.csv'\n",
    "free_companies = pd.read_csv(csv_file)"
   ]
  },
  {
   "cell_type": "markdown",
   "metadata": {},
   "source": [
    "#### Scraping the date field from the advanced search was a pain."
   ]
  },
  {
   "cell_type": "code",
   "execution_count": 3,
   "metadata": {},
   "outputs": [
    {
     "data": {
      "text/plain": [
       "\"document.getElementById('datetime-0.401752472315042').innerHTML = ldst_strftime(1517845504, 'YMD');\""
      ]
     },
     "execution_count": 3,
     "metadata": {},
     "output_type": "execute_result"
    }
   ],
   "source": [
    "test_string = free_companies['date'][0]\n",
    "test_string"
   ]
  },
  {
   "cell_type": "markdown",
   "metadata": {},
   "source": [
    "#### The important part is the 10 digits near the end.<br>This is the 'epoch time', which we need to convert to human readable."
   ]
  },
  {
   "cell_type": "code",
   "execution_count": 4,
   "metadata": {},
   "outputs": [
    {
     "data": {
      "text/plain": [
       "'1517845504'"
      ]
     },
     "execution_count": 4,
     "metadata": {},
     "output_type": "execute_result"
    }
   ],
   "source": [
    "test_string[-19:-9]"
   ]
  },
  {
   "cell_type": "code",
   "execution_count": 5,
   "metadata": {},
   "outputs": [],
   "source": [
    "free_companies['date'] = free_companies.date.apply(lambda x: x[-19:-9]).astype('int')"
   ]
  },
  {
   "cell_type": "code",
   "execution_count": 6,
   "metadata": {},
   "outputs": [
    {
     "data": {
      "text/plain": [
       "Timestamp('2018-02-05 15:45:04')"
      ]
     },
     "execution_count": 6,
     "metadata": {},
     "output_type": "execute_result"
    }
   ],
   "source": [
    "pd.to_datetime(1517845504, unit='s')"
   ]
  },
  {
   "cell_type": "markdown",
   "metadata": {},
   "source": [
    "#### Not only should this be human readable, it should be converted to a specific format allowing for easier manipulation."
   ]
  },
  {
   "cell_type": "code",
   "execution_count": 7,
   "metadata": {},
   "outputs": [],
   "source": [
    "free_companies['date'] = pd.to_datetime(free_companies['date'], unit='s')"
   ]
  },
  {
   "cell_type": "code",
   "execution_count": 8,
   "metadata": {},
   "outputs": [],
   "source": [
    "free_companies.sort_values('date', ascending=True, inplace=True)"
   ]
  },
  {
   "cell_type": "code",
   "execution_count": 9,
   "metadata": {},
   "outputs": [
    {
     "data": {
      "text/plain": [
       "date          datetime64[ns]\n",
       "world                 object\n",
       "name                  object\n",
       "has_estate            object\n",
       "dtype: object"
      ]
     },
     "execution_count": 9,
     "metadata": {},
     "output_type": "execute_result"
    }
   ],
   "source": [
    "free_companies.dtypes"
   ]
  },
  {
   "cell_type": "markdown",
   "metadata": {},
   "source": [
    "#### I set the index to this datetime format so that I can bin the data by week."
   ]
  },
  {
   "cell_type": "code",
   "execution_count": 10,
   "metadata": {},
   "outputs": [],
   "source": [
    "free_companies.set_index('date', inplace=True)"
   ]
  },
  {
   "cell_type": "code",
   "execution_count": 11,
   "metadata": {},
   "outputs": [
    {
     "data": {
      "text/html": [
       "<div>\n",
       "<style scoped>\n",
       "    .dataframe tbody tr th:only-of-type {\n",
       "        vertical-align: middle;\n",
       "    }\n",
       "\n",
       "    .dataframe tbody tr th {\n",
       "        vertical-align: top;\n",
       "    }\n",
       "\n",
       "    .dataframe thead th {\n",
       "        text-align: right;\n",
       "    }\n",
       "</style>\n",
       "<table border=\"1\" class=\"dataframe\">\n",
       "  <thead>\n",
       "    <tr style=\"text-align: right;\">\n",
       "      <th></th>\n",
       "      <th>world</th>\n",
       "      <th>name</th>\n",
       "      <th>has_estate</th>\n",
       "    </tr>\n",
       "    <tr>\n",
       "      <th>date</th>\n",
       "      <th></th>\n",
       "      <th></th>\n",
       "      <th></th>\n",
       "    </tr>\n",
       "  </thead>\n",
       "  <tbody>\n",
       "    <tr>\n",
       "      <th>2017-11-04 12:16:50</th>\n",
       "      <td>Aegis</td>\n",
       "      <td>OREO EATER</td>\n",
       "      <td>No Estate or Plot</td>\n",
       "    </tr>\n",
       "    <tr>\n",
       "      <th>2017-11-04 14:20:16</th>\n",
       "      <td>Ramuh</td>\n",
       "      <td>SleepingCat</td>\n",
       "      <td>No Estate or Plot</td>\n",
       "    </tr>\n",
       "    <tr>\n",
       "      <th>2017-11-04 14:51:11</th>\n",
       "      <td>Atomos</td>\n",
       "      <td>November_4</td>\n",
       "      <td>Estate Built</td>\n",
       "    </tr>\n",
       "    <tr>\n",
       "      <th>2017-11-04 17:37:24</th>\n",
       "      <td>Kujata</td>\n",
       "      <td>DISCO FLIGHT</td>\n",
       "      <td>No Estate or Plot</td>\n",
       "    </tr>\n",
       "    <tr>\n",
       "      <th>2017-11-05 01:15:43</th>\n",
       "      <td>Ramuh</td>\n",
       "      <td>Secretariat</td>\n",
       "      <td>No Estate or Plot</td>\n",
       "    </tr>\n",
       "  </tbody>\n",
       "</table>\n",
       "</div>"
      ],
      "text/plain": [
       "                      world          name         has_estate\n",
       "date                                                        \n",
       "2017-11-04 12:16:50   Aegis    OREO EATER  No Estate or Plot\n",
       "2017-11-04 14:20:16   Ramuh   SleepingCat  No Estate or Plot\n",
       "2017-11-04 14:51:11  Atomos    November_4       Estate Built\n",
       "2017-11-04 17:37:24  Kujata  DISCO FLIGHT  No Estate or Plot\n",
       "2017-11-05 01:15:43   Ramuh   Secretariat  No Estate or Plot"
      ]
     },
     "execution_count": 11,
     "metadata": {},
     "output_type": "execute_result"
    }
   ],
   "source": [
    "free_companies.head()"
   ]
  },
  {
   "cell_type": "code",
   "execution_count": 12,
   "metadata": {},
   "outputs": [],
   "source": [
    "weekly_companies = free_companies.resample('W').count()"
   ]
  },
  {
   "cell_type": "markdown",
   "metadata": {},
   "source": [
    "#### The focus of this dataframe is counts, so the Name and Has Estate features are unnecessary."
   ]
  },
  {
   "cell_type": "code",
   "execution_count": 13,
   "metadata": {},
   "outputs": [],
   "source": [
    "weekly_companies.drop(['name', 'has_estate'], axis=1, inplace=True)"
   ]
  },
  {
   "cell_type": "markdown",
   "metadata": {},
   "source": [
    "#### The weekly counts include this current week.<br>I'll drop that, because it's only Monday."
   ]
  },
  {
   "cell_type": "code",
   "execution_count": 14,
   "metadata": {},
   "outputs": [],
   "source": [
    "weekly_companies = weekly_companies[:-1]"
   ]
  },
  {
   "cell_type": "markdown",
   "metadata": {},
   "source": [
    "#### And now, we'll make a pretty graph to tie things together."
   ]
  },
  {
   "cell_type": "code",
   "execution_count": 15,
   "metadata": {},
   "outputs": [
    {
     "data": {
      "text/plain": [
       "<seaborn.axisgrid.FacetGrid at 0x10e431fd0>"
      ]
     },
     "execution_count": 15,
     "metadata": {},
     "output_type": "execute_result"
    },
    {
     "data": {
      "image/png": "[encoded data removed]",
      "text/plain": [
       "<matplotlib.figure.Figure at 0x10e422048>"
      ]
     },
     "metadata": {},
     "output_type": "display_data"
    }
   ],
   "source": [
    "sns.set_style('whitegrid')\n",
    "g = sns.factorplot(data=weekly_companies.T, palette='BuPu', kind='bar', size=10, aspect=1.25)\n",
    "\n",
    "g.fig.suptitle('Free Companies Established by Week for All Data Centers', y=1.025, fontsize=21)\n",
    "g.set_xticklabels(weekly_companies.index.strftime('%Y-%m-%d'), rotation=45, size='large')\n",
    "g.set_ylabels(label='Count', size='x-large')\n",
    "g.set_xlabels(label='Date (Week Ending On)', size='x-large')"
   ]
  }
 ],
 "metadata": {
  "kernelspec": {
   "display_name": "Python 3",
   "language": "python",
   "name": "python3"
  },
  "language_info": {
   "codemirror_mode": {
    "name": "ipython",
    "version": 3
   },
   "file_extension": ".py",
   "mimetype": "text/x-python",
   "name": "python",
   "nbconvert_exporter": "python",
   "pygments_lexer": "ipython3",
   "version": "3.6.4"
  }
 },
 "nbformat": 4,
 "nbformat_minor": 2
}
